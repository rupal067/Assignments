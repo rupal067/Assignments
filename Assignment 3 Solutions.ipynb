{
 "cells": [
  {
   "cell_type": "markdown",
   "id": "ba194b7c",
   "metadata": {},
   "source": [
    "## Functions"
   ]
  },
  {
   "cell_type": "code",
   "execution_count": 90,
   "id": "a7d0e1e6",
   "metadata": {},
   "outputs": [
    {
     "data": {
      "text/plain": [
       "100"
      ]
     },
     "execution_count": 90,
     "metadata": {},
     "output_type": "execute_result"
    }
   ],
   "source": [
    "# 1. Define a Sum Function which accepts variable number of integers as an arguments.\n",
    "\n",
    "def add(*n):\n",
    "    return sum(n)\n",
    "\n",
    "add(10,20,30,40)"
   ]
  },
  {
   "cell_type": "code",
   "execution_count": 84,
   "id": "e5cab7b2",
   "metadata": {},
   "outputs": [
    {
     "name": "stdout",
     "output_type": "stream",
     "text": [
      "Using for loop\n",
      "Enter any number: 5\n",
      "The factorial of given number is: 120\n",
      "Using while loop\n",
      "Enter any number: -2\n"
     ]
    },
    {
     "data": {
      "text/plain": [
       "-1"
      ]
     },
     "execution_count": 84,
     "metadata": {},
     "output_type": "execute_result"
    }
   ],
   "source": [
    "# 2. WAF to find factorial of a positive number. Return -1 if input to the function is any invalid input.\n",
    "# Using for loop\n",
    "# Using while loop\n",
    "# Using recursive function (note: recursive function are computationally expensive)\n",
    "\n",
    "# Using for loop\n",
    "\n",
    "def fact(a):\n",
    "    print('Using for loop')\n",
    "    n= int(input('Enter any number: '))\n",
    "    facto=1\n",
    "    if n==0:\n",
    "        print('The factorial of 0 is 1.')\n",
    "    elif n>0:\n",
    "        for i in range(1,n+1):\n",
    "            facto=facto*i\n",
    "        print('The factorial of given number is: {}'.format(facto))\n",
    "    else:\n",
    "        return -1\n",
    "fact(n)\n",
    "  \n",
    "# Using While loop\n",
    "\n",
    "def fact1(a):\n",
    "    print('Using while loop')\n",
    "    n= int(input('Enter any number: '))\n",
    "    facto=1\n",
    "    if n==0:\n",
    "        print('The factorial of 0 is 1.')\n",
    "    elif n>0:\n",
    "        while n>0:\n",
    "            facto=facto*n\n",
    "            n-=1\n",
    "        print('The factorial of given number is: {}'.format(facto))\n",
    "    else:\n",
    "        return -1\n",
    "fact1(n)\n",
    "        \n",
    "\n",
    "\n",
    "    \n",
    "    \n"
   ]
  },
  {
   "cell_type": "code",
   "execution_count": 5,
   "id": "7f3f2df3",
   "metadata": {},
   "outputs": [
    {
     "name": "stdout",
     "output_type": "stream",
     "text": [
      "Enter first number n1 : 5\n",
      "Enter second number n2 : 6\n",
      "After swapping the numbers are n1 = 6 and n2 =5.\n"
     ]
    }
   ],
   "source": [
    "# 6. WAF to swap two numbers.\n",
    "\n",
    "def swap(a,b):\n",
    "    a=a+b\n",
    "    b=a-b\n",
    "    a=a-b\n",
    "    print('After swapping the numbers are n1 = {} and n2 ={}.'.format(a,b))\n",
    "    \n",
    "n1=int(input('Enter first number n1 : '))\n",
    "n2=int(input('Enter second number n2 : '))\n",
    "swap(n1,n2)\n"
   ]
  },
  {
   "cell_type": "code",
   "execution_count": 12,
   "id": "423afa18",
   "metadata": {},
   "outputs": [
    {
     "name": "stdout",
     "output_type": "stream",
     "text": [
      "Enter first number: 56\n",
      "Enter second number: 3\n",
      "Please select operation -\n",
      "1. Add\n",
      "2. Subtract\n",
      "3. Multiply\n",
      "4. Divide\n",
      "\n",
      "Select operations form 1, 2, 3, 4 :4\n",
      "56 / 3 = 18.666666666666668\n"
     ]
    }
   ],
   "source": [
    "# 7. WAF to implement basic calculator.\n",
    "\n",
    "# Function to add two numbers \n",
    "def add(num1, num2):\n",
    "    return num1 + num2\n",
    "  \n",
    "# Function to subtract two numbers \n",
    "def subtract(num1, num2):\n",
    "    return num1 - num2\n",
    "  \n",
    "# Function to multiply two numbers\n",
    "def multiply(num1, num2):\n",
    "    return num1 * num2\n",
    "  \n",
    "# Function to divide two numbers\n",
    "def divide(num1, num2):\n",
    "    return num1 / num2\n",
    "  \n",
    "# Take input from the user \n",
    "  \n",
    "num1 = int(input(\"Enter first number: \"))\n",
    "num2 = int(input(\"Enter second number: \"))\n",
    "print(\"Please select operation -\\n\" \\\n",
    "        \"1. Add\\n\" \\\n",
    "        \"2. Subtract\\n\" \\\n",
    "        \"3. Multiply\\n\" \\\n",
    "        \"4. Divide\\n\")\n",
    "\n",
    "select = int(input(\"Select operations form 1, 2, 3, 4 :\"))\n",
    "  \n",
    "  \n",
    "if select == 1:\n",
    "    print(num1, \"+\", num2, \"=\",\n",
    "                    add(num1, num2))\n",
    "  \n",
    "elif select == 2:\n",
    "    print(num1, \"-\", num2, \"=\",\n",
    "                    subtract(num1, num2))\n",
    "  \n",
    "elif select == 3:\n",
    "    print(num1, \"*\", num2, \"=\",\n",
    "                    multiply(num1, num2))\n",
    "  \n",
    "elif select == 4:\n",
    "    if num2==0:\n",
    "        print(\"Division can't be performed.\")\n",
    "    else:\n",
    "        print(num1, \"/\", num2, \"=\",\n",
    "                    divide(num1, num2))\n",
    "else:\n",
    "    print(\"Invalid input\")\n"
   ]
  },
  {
   "cell_type": "code",
   "execution_count": 12,
   "id": "a8d94a06",
   "metadata": {},
   "outputs": [
    {
     "name": "stdout",
     "output_type": "stream",
     "text": [
      "Enter any number: 5\n",
      "Square of 5 is :  25\n"
     ]
    }
   ],
   "source": [
    "# 8. Write a lambda function which find square of a number.\n",
    "\n",
    "a=int(input('Enter any number: '))\n",
    "l= lambda a: a*a\n",
    "print('Square of {} is : '.format(a), l(a) )\n"
   ]
  },
  {
   "cell_type": "code",
   "execution_count": 40,
   "id": "39d1f0bf",
   "metadata": {},
   "outputs": [
    {
     "name": "stdout",
     "output_type": "stream",
     "text": [
      "[1, 2, 3, 4, 5, 6, 7, 8, 9, 10, 11, 12, 13, 14, 15, 16, 17, 18, 19, 20, 21, 22, 23, 24, 25, 26, 27, 28, 29, 30, 31, 32, 33, 34, 35, 36, 37, 38, 39, 40, 41, 42, 43, 44, 45, 46, 47, 48, 49, 50, 51, 52, 53, 54, 55, 56, 57, 58, 59, 60, 61, 62, 63, 64, 65, 66, 67, 68, 69, 70, 71, 72, 73, 74, 75, 76, 77, 78, 79, 80, 81, 82, 83, 84, 85, 86, 87, 88, 89, 90, 91, 92, 93, 94, 95, 96, 97, 98, 99, 100]\n"
     ]
    },
    {
     "data": {
      "text/plain": [
       "[2,\n",
       " 4,\n",
       " 6,\n",
       " 8,\n",
       " 10,\n",
       " 12,\n",
       " 14,\n",
       " 16,\n",
       " 18,\n",
       " 20,\n",
       " 22,\n",
       " 24,\n",
       " 26,\n",
       " 28,\n",
       " 30,\n",
       " 32,\n",
       " 34,\n",
       " 36,\n",
       " 38,\n",
       " 40,\n",
       " 42,\n",
       " 44,\n",
       " 46,\n",
       " 48,\n",
       " 50,\n",
       " 52,\n",
       " 54,\n",
       " 56,\n",
       " 58,\n",
       " 60,\n",
       " 62,\n",
       " 64,\n",
       " 66,\n",
       " 68,\n",
       " 70,\n",
       " 72,\n",
       " 74,\n",
       " 76,\n",
       " 78,\n",
       " 80,\n",
       " 82,\n",
       " 84,\n",
       " 86,\n",
       " 88,\n",
       " 90,\n",
       " 92,\n",
       " 94,\n",
       " 96,\n",
       " 98,\n",
       " 100]"
      ]
     },
     "execution_count": 40,
     "metadata": {},
     "output_type": "execute_result"
    }
   ],
   "source": [
    "# 9. Declare a List with Numbers from 1 to 100 using List Comprehension. Use the lambda and filter function to filter all even numbers.\n",
    "\n",
    "lst= [i for i in range(1,101)]\n",
    "print(lst)\n",
    "\n",
    "list(filter(lambda i: i%2==0, lst))\n",
    "\n",
    "\n"
   ]
  },
  {
   "cell_type": "code",
   "execution_count": 95,
   "id": "0d767819",
   "metadata": {},
   "outputs": [
    {
     "data": {
      "text/plain": [
       "['1', '0', '1', '0', '1', '0', '0', '0']"
      ]
     },
     "execution_count": 95,
     "metadata": {},
     "output_type": "execute_result"
    }
   ],
   "source": [
    "# 10. [‘male’,’female’,’male’,’female’,’male’,’female’,’female’,’female’] => Replace ‘male’ with 0 and ‘female’ with 1 using lambda function and map function.\n",
    "\n",
    "lst= ['male','female','male','female','male','female','female','female']\n",
    "\n",
    "m= map(lambda i:'1' if i=='male' else '0' , lst)\n",
    "list(m)\n"
   ]
  },
  {
   "cell_type": "code",
   "execution_count": 29,
   "id": "d37c623f",
   "metadata": {},
   "outputs": [
    {
     "name": "stdout",
     "output_type": "stream",
     "text": [
      "Enter the length of Fibonacci series: 10\n",
      "The Fibonacci series of length 10 is:  [0, 1, 1, 2, 3, 5, 8, 13, 21, 34]\n"
     ]
    }
   ],
   "source": [
    "# 11. Find Fibonacci series for given length using lambda and reduce function.\n",
    "\n",
    "from functools import reduce\n",
    "\n",
    "n= int(input('Enter the length of Fibonacci series: '))\n",
    "f= lambda n: reduce(lambda a,b : a+[a[-1]+a[-2]], range(n-2), [0,1])\n",
    "print('The Fibonacci series of length {} is: '.format(n), f(n))\n"
   ]
  },
  {
   "cell_type": "code",
   "execution_count": 34,
   "id": "410f5599",
   "metadata": {},
   "outputs": [
    {
     "name": "stdout",
     "output_type": "stream",
     "text": [
      "Intersection of given arrays are:  [3, 4, 5, 6, 7]\n"
     ]
    }
   ],
   "source": [
    "# 12. Find intersection of two arrays using lambda and filter function.\n",
    "\n",
    "def intersection(arr1, arr2):\n",
    "    values= list(filter(lambda a: a in arr1,arr2))\n",
    "    print('Intersection of given arrays are: ', values)\n",
    "    \n",
    "arr1 = [1,2,3,4,5,6,7]\n",
    "arr2 = [3,4,5,6,7,8,9]\n",
    "intersection(arr1,arr2)\n",
    "\n"
   ]
  },
  {
   "cell_type": "code",
   "execution_count": 38,
   "id": "d045dad2",
   "metadata": {},
   "outputs": [
    {
     "name": "stdout",
     "output_type": "stream",
     "text": [
      "Enter any number: 45\n",
      "Odd\n"
     ]
    }
   ],
   "source": [
    "# 13. WAF to check if a number is even or odd using lambda expression.\n",
    "\n",
    "n=int(input('Enter any number: '))\n",
    "l=lambda n: 'Even' if n%2==0 else 'Odd'\n",
    "print(l(n))\n"
   ]
  },
  {
   "cell_type": "code",
   "execution_count": null,
   "id": "a2f86667",
   "metadata": {},
   "outputs": [],
   "source": [
    "# 14. WAF to return appropriate message as follows:\n",
    "# If the sequence is in ascending order: return “Ascending order”\n",
    "# If the sequence is in descending order: return “Descending order”\n",
    "# Else: “Random order”\n",
    "# Test case sequences:\n",
    "# (10,10,20,30,20,20)\n",
    "# (20,20,30,30,30,40,40,40)\n",
    "# (20,20,30,30,30,29,40,40,40)\n",
    "# (20,20,30,30,30,40,40,40,10)\n",
    "# (20,20,20,30,30,30,40,40,40)\n",
    "# (20,20,30,30,30,40,40,40,31)\n",
    "# (40,40,40,30,20,20,20)\n",
    "# (40,40,40,30,20,20,20,10)\n",
    "# (40,40,40,30,10,20,20)"
   ]
  },
  {
   "cell_type": "code",
   "execution_count": 54,
   "id": "14201f2a",
   "metadata": {},
   "outputs": [
    {
     "name": "stdout",
     "output_type": "stream",
     "text": [
      "List is in Random Order.\n",
      "List is in Ascending Order.\n",
      "List is in Random Order.\n",
      "List is in Random Order.\n",
      "List is in Ascending Order.\n",
      "List is in Random Order.\n",
      "List is in Descending Order.\n",
      "List is in Descending Order.\n",
      "List is in Random Order.\n"
     ]
    }
   ],
   "source": [
    "\n",
    "def order(lst):\n",
    "    flag = 0\n",
    "    count= 0\n",
    "    i = 1\n",
    "\n",
    "    while i < len(lst):\n",
    "        if(lst[i] < lst[i - 1]):\n",
    "            flag = 1\n",
    "        elif (lst[i] > lst[i - 1]):\n",
    "            count=1\n",
    "        i += 1\n",
    "\n",
    "    if (not flag) :\n",
    "        print (\"List is in Ascending Order.\")\n",
    "    elif (not count):\n",
    "        print (\"List is in Descending Order.\")   \n",
    "    else :\n",
    "        print (\"List is in Random Order.\")\n",
    "\n",
    "lst1=(10,10,20,30,20,20)\n",
    "lst2=(20,20,30,30,30,40,40,40)\n",
    "lst3=(20,20,30,30,30,29,40,40,40)\n",
    "lst4=(20,20,30,30,30,40,40,40,10)\n",
    "lst5=(20,20,20,30,30,30,40,40,40)\n",
    "lst6=(20,20,30,30,30,40,40,40,31)\n",
    "lst7=(40,40,40,30,20,20,20)\n",
    "lst8=(40,40,40,30,20,20,20,10)\n",
    "lst9=(40,40,40,30,10,20,20)\n",
    "\n",
    "order(lst1)\n",
    "order(lst2)\n",
    "order(lst3)\n",
    "order(lst4)\n",
    "order(lst5)\n",
    "order(lst6)\n",
    "order(lst7)\n",
    "order(lst8)\n",
    "order(lst9)\n",
    "    \n",
    "    "
   ]
  },
  {
   "cell_type": "code",
   "execution_count": null,
   "id": "eb0dd7e0",
   "metadata": {},
   "outputs": [],
   "source": []
  },
  {
   "cell_type": "code",
   "execution_count": null,
   "id": "a9e5d57e",
   "metadata": {},
   "outputs": [],
   "source": []
  }
 ],
 "metadata": {
  "kernelspec": {
   "display_name": "Python 3",
   "language": "python",
   "name": "python3"
  },
  "language_info": {
   "codemirror_mode": {
    "name": "ipython",
    "version": 3
   },
   "file_extension": ".py",
   "mimetype": "text/x-python",
   "name": "python",
   "nbconvert_exporter": "python",
   "pygments_lexer": "ipython3",
   "version": "3.8.8"
  }
 },
 "nbformat": 4,
 "nbformat_minor": 5
}
