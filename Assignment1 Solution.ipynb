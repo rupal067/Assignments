{
 "cells": [
  {
   "cell_type": "markdown",
   "id": "8e8e0817",
   "metadata": {},
   "source": [
    "# Basic Programs"
   ]
  },
  {
   "cell_type": "code",
   "execution_count": 7,
   "id": "4efe5e5b",
   "metadata": {},
   "outputs": [
    {
     "name": "stdout",
     "output_type": "stream",
     "text": [
      "Hello World\n"
     ]
    }
   ],
   "source": [
    "# 1. Print Hello World\n",
    "\n",
    "print('Hello World')"
   ]
  },
  {
   "cell_type": "code",
   "execution_count": 2,
   "id": "56ef3504",
   "metadata": {},
   "outputs": [
    {
     "name": "stdout",
     "output_type": "stream",
     "text": [
      "10\n",
      "10.5\n",
      "True\n",
      "Learnbay\n"
     ]
    }
   ],
   "source": [
    "# 2. Declare the following variables: Int, Float, Boolean, String & print its value.\n",
    "a= 10\n",
    "b= 10.5\n",
    "bool = True\n",
    "str= \"Learnbay\"\n",
    "print(a)\n",
    "print(b)\n",
    "print(bool)\n",
    "print(str)\n"
   ]
  },
  {
   "cell_type": "code",
   "execution_count": 3,
   "id": "90abf1b2",
   "metadata": {},
   "outputs": [
    {
     "name": "stdout",
     "output_type": "stream",
     "text": [
      "Enter the base of Triangle: 3\n",
      "Enter the height of Triangle: 6\n",
      "Area of Triangle is: 9.0\n"
     ]
    }
   ],
   "source": [
    "# 3.Program to calculate the Area Of Triangle.\n",
    "\n",
    "base = input('Enter the base of Triangle: ')\n",
    "height = input('Enter the height of Triangle: ')\n",
    "n1= float(base)*float(height)\n",
    "n2=0.5\n",
    "Area= n2*n1\n",
    "print('Area of Triangle is: {}'.format(Area))"
   ]
  },
  {
   "cell_type": "code",
   "execution_count": 5,
   "id": "34096ad8",
   "metadata": {},
   "outputs": [
    {
     "name": "stdout",
     "output_type": "stream",
     "text": [
      "Enter the side of Square: 4\n",
      "Area of Square is: 16.0\n"
     ]
    }
   ],
   "source": [
    "# 4.Program to calculate area of a square.\n",
    "\n",
    "side = float(input('Enter the side of Square: '))\n",
    "\n",
    "Area= (side)*(side)\n",
    "\n",
    "print('Area of Square is: {}'.format(Area))"
   ]
  },
  {
   "cell_type": "code",
   "execution_count": 6,
   "id": "ebdf2357",
   "metadata": {},
   "outputs": [
    {
     "name": "stdout",
     "output_type": "stream",
     "text": [
      "Enter value of a: 2\n",
      "Enter value of b: 3\n",
      "Value of a after swapping: 3\n",
      "Value of b after swapping: 2\n"
     ]
    }
   ],
   "source": [
    "# 5. Program to swap two variables.\n",
    "\n",
    "a= int(input('Enter value of a: '))\n",
    "b= int(input('Enter value of b: '))\n",
    "\n",
    "a=a+b\n",
    "b=a-b\n",
    "a=a-b\n",
    "\n",
    "print('Value of a after swapping: {}'.format(a))\n",
    "print('Value of b after swapping: {}'.format(b))"
   ]
  },
  {
   "cell_type": "code",
   "execution_count": 19,
   "id": "3138e3c3",
   "metadata": {},
   "outputs": [
    {
     "name": "stdout",
     "output_type": "stream",
     "text": [
      "Enter any number: 6\n",
      "The number is positive.\n"
     ]
    }
   ],
   "source": [
    "# 6. Program is to check if a number is positive, negative or zero.\n",
    "\n",
    "a= int(input('Enter any number: '))\n",
    "\n",
    "if a==0:\n",
    "    print('The number is Zero.')\n",
    "    \n",
    "elif a>0:\n",
    "    print('The number is positive.')\n",
    "    \n",
    "else:\n",
    "    print('The number is negative')"
   ]
  },
  {
   "cell_type": "code",
   "execution_count": 6,
   "id": "4013ae80",
   "metadata": {},
   "outputs": [
    {
     "name": "stdout",
     "output_type": "stream",
     "text": [
      "Enter any number: 42\n",
      "The number is Even.\n"
     ]
    }
   ],
   "source": [
    "# 7. Program is to check if a number is Even or Odd.\n",
    "\n",
    "num= int(input('Enter any number: '))\n",
    "\n",
    "if num%2==0:\n",
    "    print('The number is Even.')\n",
    "    \n",
    "else:\n",
    "    print('The number is odd.')\n",
    "\n"
   ]
  },
  {
   "cell_type": "code",
   "execution_count": 1,
   "id": "447b9662",
   "metadata": {},
   "outputs": [
    {
     "name": "stdout",
     "output_type": "stream",
     "text": [
      "from-1\n",
      "to-10\n",
      "1 3 5 7 9 "
     ]
    }
   ],
   "source": [
    "# 8. Program to print Odd number within a given range.\n",
    "\n",
    "start= int(input('from-'))\n",
    "end= int(input('to-'))\n",
    "\n",
    "for i in range(start,end+1):\n",
    "\n",
    "    if i%2!=0:\n",
    "        print(i,end=' ')\n",
    "    "
   ]
  },
  {
   "cell_type": "code",
   "execution_count": 17,
   "id": "b616060c",
   "metadata": {},
   "outputs": [
    {
     "name": "stdout",
     "output_type": "stream",
     "text": [
      "Enter a number: 6\n",
      "720\n"
     ]
    }
   ],
   "source": [
    "# 9. Python program to find the factorial of a number.\n",
    "\n",
    "num=int(input('Enter a number: '))\n",
    "fact=1\n",
    "if num<0:\n",
    "    print('Invalid Number')\n",
    "elif num==0:\n",
    "    print('The factorial of 0 is 1.')\n",
    "else:\n",
    "    for i in range (1,num+1):\n",
    "        fact=fact*i\n",
    "    \n",
    "print(fact)\n"
   ]
  },
  {
   "cell_type": "code",
   "execution_count": 28,
   "id": "2c1fc476",
   "metadata": {},
   "outputs": [
    {
     "name": "stdout",
     "output_type": "stream",
     "text": [
      "Enter any number123456\n",
      "Reverse of given number is: 654321\n"
     ]
    }
   ],
   "source": [
    "# 10. Program to reverse a given number.\n",
    "\n",
    "n1= int(input('Enter any number'))\n",
    "reverse_num = 0\n",
    "\n",
    "while n1!=0:\n",
    "    digit=n1%10\n",
    "    reverse_num = (reverse_num * 10)+digit\n",
    "    n1 = n1//10\n",
    "        \n",
    "print('Reverse of given number is: ' +str(reverse_num))\n"
   ]
  },
  {
   "cell_type": "code",
   "execution_count": 45,
   "id": "daf6a1ae",
   "metadata": {},
   "outputs": [
    {
     "name": "stdout",
     "output_type": "stream",
     "text": [
      "Enter the value of N: 5\n",
      "The sum of Natural numbers from 1 to 5 is: 15\n"
     ]
    }
   ],
   "source": [
    "# 11. Program to find out the sum of N Natural numbers.\n",
    "\n",
    "n1=int(input('Enter the value of N: '))\n",
    "n2=1\n",
    "n3=0\n",
    "while n2<n1+1:\n",
    "    n3=n3+n2\n",
    "    n2=n2+1\n",
    "print('The sum of Natural numbers from 1 to {} is: {}'.format(n1,n3))\n"
   ]
  },
  {
   "cell_type": "markdown",
   "id": "292b5ada",
   "metadata": {},
   "source": [
    "# Strings"
   ]
  },
  {
   "cell_type": "code",
   "execution_count": 52,
   "id": "666b36db",
   "metadata": {},
   "outputs": [
    {
     "name": "stdout",
     "output_type": "stream",
     "text": [
      "edcba\n"
     ]
    }
   ],
   "source": [
    "# 1. Program to reverse a string.\n",
    "str='abcde'\n",
    "print(str[::-1])"
   ]
  },
  {
   "cell_type": "code",
   "execution_count": 58,
   "id": "af1543c8",
   "metadata": {},
   "outputs": [
    {
     "name": "stdout",
     "output_type": "stream",
     "text": [
      "Enter any String: RACECAR\n",
      "The string is palindrome.\n"
     ]
    }
   ],
   "source": [
    "# 2. Program to check if string is palindrome or not.\n",
    "\n",
    "str=input(\"Enter any String: \")\n",
    "if(str==str[::-1]):\n",
    "    print(\"The string is palindrome.\")\n",
    "else:\n",
    "    print(\"The string is not palindrome.\")"
   ]
  },
  {
   "cell_type": "code",
   "execution_count": 8,
   "id": "8701ba7e",
   "metadata": {},
   "outputs": [
    {
     "name": "stdout",
     "output_type": "stream",
     "text": [
      "Enter any String: a1a2A3A4a5a6A\n",
      "$1$2A3A4$5$6A\n"
     ]
    }
   ],
   "source": [
    "# 3. Program to Replace all Occurrences of ‘a’ with $ in a String from user.\n",
    "\n",
    "str1=input(\"Enter any String: \")\n",
    "new_str=str1.replace('a','$')\n",
    "print(new_str)\n"
   ]
  },
  {
   "cell_type": "code",
   "execution_count": 16,
   "id": "d0da8886",
   "metadata": {},
   "outputs": [
    {
     "name": "stdout",
     "output_type": "stream",
     "text": [
      "Enter first String: Learnbay\n",
      "Enter second String: Python\n",
      "Learnbay is larger than the Python string.\n"
     ]
    }
   ],
   "source": [
    "# 4. Input Two Strings and Display the Larger String without Using Built-in Functions.\n",
    "\n",
    "s1=input(\"Enter first String: \")\n",
    "s2=input(\"Enter second String: \")\n",
    "\n",
    "if len(s1)>len(s2):\n",
    "    print('{} is larger than the {} string.'.format(s1,s2))\n",
    "elif len(s1)<len(s2):\n",
    "    print('{} is larger than the {} string.'.format(s2,s1))\n",
    "else:\n",
    "    print('Both strings are equal in size.')\n",
    "\n"
   ]
  },
  {
   "cell_type": "code",
   "execution_count": 104,
   "id": "0ee96207",
   "metadata": {},
   "outputs": [
    {
     "name": "stdout",
     "output_type": "stream",
     "text": [
      "Enter any String: learnbay\n",
      "The number of vowels in string are: 3\n"
     ]
    }
   ],
   "source": [
    "# 5.Program to Count the Number of Vowels in a String.\n",
    "\n",
    "strn =input(\"Enter any String: \")\n",
    "vowels=0\n",
    "for i in strn:\n",
    "    if (i=='a'or i=='e'or i=='i' or i=='o' or i=='u'):\n",
    "        vowels+=1\n",
    "    else:\n",
    "        pass\n",
    "print('The number of vowels in string are: {}'.format(vowels))\n",
    "\n",
    "\n",
    "\n"
   ]
  },
  {
   "cell_type": "code",
   "execution_count": 74,
   "id": "47be7ef2",
   "metadata": {},
   "outputs": [
    {
     "name": "stdout",
     "output_type": "stream",
     "text": [
      "Enter any String: a1b2c3d4na5a1a2a\n",
      "The number of digits in string is: 7\n",
      "The number of letters in string is: 9\n"
     ]
    }
   ],
   "source": [
    "# 6. Count the number of digits & letter in a string.\n",
    "\n",
    "str3=input(\"Enter any String: \")\n",
    "\n",
    "digit=0\n",
    "letter=0\n",
    "\n",
    "for i in str3:\n",
    "    \n",
    "    if i.isdigit():\n",
    "        digit=digit+1 \n",
    "        \n",
    "    elif i.isalpha():\n",
    "        letter=letter+1\n",
    "    \n",
    "    else:\n",
    "        pass\n",
    "    \n",
    "print('The number of digits in string is: {}'.format(digit))\n",
    "print('The number of letters in string is: {}'.format(letter))\n",
    "        \n",
    "\n",
    "\n"
   ]
  },
  {
   "cell_type": "code",
   "execution_count": 77,
   "id": "188e5e14",
   "metadata": {},
   "outputs": [
    {
     "name": "stdout",
     "output_type": "stream",
     "text": [
      "Enter any String: LeArNbAy \n",
      "The number of lower case letters in string are: 4\n"
     ]
    }
   ],
   "source": [
    "# 6. Count Number of Lowercase Characters in a String.\n",
    "\n",
    "str4=input(\"Enter any String: \")\n",
    "\n",
    "lower=0\n",
    "for i in str4:\n",
    "    if i.islower():\n",
    "        lower+=1\n",
    "    else:\n",
    "        pass\n",
    "print('The number of lower case letters in string are: {}'.format(lower))\n",
    "\n"
   ]
  },
  {
   "cell_type": "code",
   "execution_count": 21,
   "id": "15446582",
   "metadata": {},
   "outputs": [
    {
     "name": "stdout",
     "output_type": "stream",
     "text": [
      "Enter any String: Learnbay\n",
      "Enter the substring to be checked: bay\n",
      "Substring is present.\n"
     ]
    }
   ],
   "source": [
    "# 8. Program to check if a Substring is Present in a Given String.\n",
    "\n",
    "str5=input(\"Enter any String: \")\n",
    "str6=input(\"Enter the substring to be checked: \")\n",
    "\n",
    "if str6 in str5:\n",
    "    print('Substring is present.')\n",
    "else:\n",
    "    print('Substring is not present.')\n",
    "        \n",
    "    "
   ]
  },
  {
   "cell_type": "markdown",
   "id": "31a3d9c3",
   "metadata": {},
   "source": [
    "# Conditional statements"
   ]
  },
  {
   "cell_type": "code",
   "execution_count": 27,
   "id": "15f80fcf",
   "metadata": {},
   "outputs": [
    {
     "name": "stdout",
     "output_type": "stream",
     "text": [
      "Enter any number from 0-9: -1\n",
      "Number is outside of the range.\n"
     ]
    }
   ],
   "source": [
    "# 1. W. A P. which takes one number from 0 to 9 from the user and prints it in the word. And if the word is not from 0 to 9 then it should print that number is outside of the range and program should exit.\n",
    "#  #For example:-\n",
    "#  input = 1\n",
    "#  output = one\n",
    "\n",
    "num=int(input('Enter any number from 0-9: '))\n",
    "if num==0:\n",
    "    print('Zero')\n",
    "elif num==1:\n",
    "    print('One')\n",
    "elif num==2:\n",
    "    print('Two')\n",
    "elif num==3:\n",
    "    print('Three')\n",
    "elif num==4:\n",
    "    print('Four')\n",
    "elif num==5:\n",
    "    print('Five')\n",
    "elif num==6:\n",
    "    print('Six')\n",
    "elif num==7:\n",
    "    print('Seven')\n",
    "elif num==8:\n",
    "    print('Eight')\n",
    "elif num==9:\n",
    "    print('Nine')\n",
    "else:\n",
    "    print('Number is outside of the range.')\n",
    "\n",
    "\n",
    "\n"
   ]
  },
  {
   "cell_type": "markdown",
   "id": "ddc0b3ef",
   "metadata": {},
   "source": [
    "###### "
   ]
  },
  {
   "cell_type": "code",
   "execution_count": 33,
   "id": "70b1c3dc",
   "metadata": {},
   "outputs": [
    {
     "name": "stdout",
     "output_type": "stream",
     "text": [
      "Enter 1st number:10\n",
      "Enter 2nd number:3\n",
      "Enter the operation:\n",
      "     \n",
      " 1 for addition\n",
      "     \n",
      " 2 for subtraction\n",
      "     \n",
      " 3 for Multiplication\n",
      "     \n",
      " 4 for Division\n",
      "     \n",
      " 5 for Floor Division\n",
      "     \n",
      " 6 for Float Division\n",
      "     \n",
      " 7 for Power functiom\n",
      "     \n",
      " 8 for Come out of the Program\n",
      "5\n",
      "The floor division of 10 by 3 is: 3\n"
     ]
    }
   ],
   "source": [
    "# # 2. W. A P. to implement calculator but the operation to be done and two numbers will be taken as input from user:- Operation console should show below:-\n",
    "# Please select any one operation from below:-\n",
    "# 1. To add enter 1\n",
    "# 2. to subtract enter 2\n",
    "# 3. To multiply enter 3\n",
    "# 4. To divide enter 4\n",
    "# 5. To divide and find quotient enter 5\n",
    "# 6. To divide and find remainder enter 6\n",
    "# 7. To find num1 to the power of num2 enter 7\n",
    "# 8. To Come out of the program enter 8\n",
    "\n",
    "n1=int(input('Enter 1st number:'))\n",
    "n2=int(input('Enter 2nd number:'))\n",
    "op= int(input('''Enter the operation:\n",
    "     \\n 1 for addition\n",
    "     \\n 2 for subtraction\n",
    "     \\n 3 for Multiplication\n",
    "     \\n 4 for Division\n",
    "     \\n 5 for Floor Division\n",
    "     \\n 6 for Float Division\n",
    "     \\n 7 for Power functiom\n",
    "     \\n 8 for Come out of the Program\\n'''))\n",
    "\n",
    "if op== 1:\n",
    "    n3=n1+n2\n",
    "    print('The addition of {} and {} is: {}'.format(n1,n2,n3))\n",
    "    \n",
    "elif op==2:\n",
    "    if(n1>n2):       \n",
    "        print('The Subtraction of {} and {} is: {}'.format(n1,n2,n1-n2))\n",
    "    else:\n",
    "        print('The Subtraction of {} and {} is: {}'.format(n2,n1,(n2-n1)))     \n",
    "    \n",
    "elif op==3:\n",
    "    print('The Multiplication of {} and {} is: {}'.format(n1,n2,(n1*n2)))\n",
    "    \n",
    "elif op==4:    \n",
    "    if n2==0:\n",
    "        print(\"Division can't be performed.\")   \n",
    "    else:\n",
    "        print('The Division of {} by {} is: {}'.format(n1,n2,(n1/n2)))\n",
    "    \n",
    "elif op==5:\n",
    "    if n2==0:\n",
    "        print(\"Division can't be performed.\")  \n",
    "    else:\n",
    "        print('The floor division of {} by {} is: {}'.format(n1,n2,(n1//n2)))\n",
    "        \n",
    "elif op==6:\n",
    "    if n2==0:\n",
    "        print(\"Division can't be performed.\")\n",
    "    else:\n",
    "        print('The float division of {} by {} is: {}'.format(n1,n2,n1/n2))\n",
    "        \n",
    "elif op==7:\n",
    "    print('The power of {} raise to {} is: {}'.format(n1,n2,(n1**n2)))\n",
    "    \n",
    "elif op==8:\n",
    "    print('Come out of the Program.')\n",
    "    \n",
    "else:\n",
    "    pass"
   ]
  },
  {
   "cell_type": "code",
   "execution_count": 79,
   "id": "ed542fdc",
   "metadata": {},
   "outputs": [
    {
     "name": "stdout",
     "output_type": "stream",
     "text": [
      "Please Enter the Year Number: 1968\n",
      "1968 is a Leap Year\n"
     ]
    }
   ],
   "source": [
    "# 3. W A P to check whether a year entered by user is an leap year or not?\n",
    "# Check with below input:-\n",
    "# i. leap year:- 2012, 1968, 2004, 1200, 1600,2400\n",
    "# ii. Non-leap year:- 1971, 2006, 1700,1800,1900\n",
    "\n",
    "year = int(input(\"Please Enter the Year Number: \"))\n",
    "\n",
    "if (( year%400 == 0)or (( year%4 == 0 ) and ( year%100 != 0))):\n",
    "    print(\"{} is a Leap Year\".format(year))\n",
    "else:\n",
    "    print(\"{} is not a Leap Year\".format(year))"
   ]
  },
  {
   "cell_type": "code",
   "execution_count": 18,
   "id": "78d1dc83",
   "metadata": {},
   "outputs": [
    {
     "name": "stdout",
     "output_type": "stream",
     "text": [
      "Enter a number: 43\n",
      "It is an Odd number.\n"
     ]
    }
   ],
   "source": [
    "# 4. W A P which takes one number from the user and checks whether it is an even or odd number? If it even then prints number is even number else prints that number is odd number.\n",
    "\n",
    "num = int(input('Enter a number: '))\n",
    "\n",
    "if num %2==0:\n",
    "    print('It is an Even number.')\n",
    "    \n",
    "else:\n",
    "    print('It is an Odd number.')\n",
    "    \n"
   ]
  },
  {
   "cell_type": "code",
   "execution_count": 24,
   "id": "48280f91",
   "metadata": {},
   "outputs": [
    {
     "name": "stdout",
     "output_type": "stream",
     "text": [
      "Enter the first number: 34\n",
      "Enter the second number: 21\n",
      "34 is greater than 21\n",
      "Enter the first number: 56\n",
      "Enter the second number: 88\n",
      "56 is smaller than 88\n"
     ]
    }
   ],
   "source": [
    "# 5. W A P which takes two numbers from the user and prints below output:-\n",
    "#num1 is greater than num2 if num1 is greater than num2\n",
    "# num1 is smaller than num2 if num1 is smaller than num2\n",
    "# num1 is equal to num2 if num1 and num2 are equal\n",
    "# Note: -\n",
    "# 1. Do this problem using if - else\n",
    "# 2. Do this using ternary operator\n",
    "\n",
    "num1= int(input('Enter the first number: '))\n",
    "num2= int(input('Enter the second number: '))\n",
    "\n",
    "if num1>num2:\n",
    "    print('{} is greater than {}'.format(num1,num2))\n",
    "elif num1<num2:\n",
    "    print('{} is smaller than {}'.format(num1,num2))\n",
    "else:\n",
    "    print('{} is equal to {}'.format(num1,num2))\n",
    "    \n",
    "    \n",
    "# Using Ternary Operator\n",
    "\n",
    "num1= int(input('Enter the first number: '))\n",
    "num2= int(input('Enter the second number: '))\n",
    "\n",
    "print('{} is greater than {}'.format(num1,num2) if num1>num2 else '{} is smaller than {}'.format(num1,num2) if num1<num2 else '{} is equal to {}'.format(num1,num2))\n"
   ]
  },
  {
   "cell_type": "code",
   "execution_count": 31,
   "id": "48399d55",
   "metadata": {},
   "outputs": [
    {
     "name": "stdout",
     "output_type": "stream",
     "text": [
      "Enter the first number: 5\n",
      "Enter the second number: 6\n",
      "Enter the Third number: 8\n",
      "8 is greater than 5 and 6\n",
      "Enter the first number: 65\n",
      "Enter the second number: 89\n",
      "Enter the Third number: 90\n",
      "90 is greater than 65 and 89\n"
     ]
    }
   ],
   "source": [
    "# # 6. W A P which takes three numbers from the user and prints below output:-\n",
    "#  num1 is greater than num2 and num3 if num1 is greater than num2 and num3\n",
    "#  num2 is greater than num1 and num3 if num2 is greater than num1 and num3\n",
    "#  num3 is greater than num1 and num2 if num3 is greater than num1 and num2\n",
    "#  Note:-\n",
    "# i. 1. Do this problem using if - elif - else\n",
    "# ii. 2. Do this using ternary operator\n",
    "\n",
    "\n",
    "num1= int(input('Enter the first number: '))\n",
    "num2= int(input('Enter the second number: '))\n",
    "num3= int(input('Enter the Third number: '))\n",
    "\n",
    "if num1>num2 and num1>num3:\n",
    "    print('{} is greater than {} and {}'.format(num1,num2,num3))\n",
    "    \n",
    "elif num2>num3:\n",
    "    print('{} is greater than {} and {}'.format(num2,num1,num3))\n",
    "    \n",
    "else:\n",
    "    print('{} is greater than {} and {}'.format(num3,num1,num2))\n",
    "    \n",
    "    \n",
    "# Using Ternary Operator\n",
    "\n",
    "num1= int(input('Enter the first number: '))\n",
    "num2= int(input('Enter the second number: '))\n",
    "num3= int(input('Enter the Third number: '))\n",
    "\n",
    "print('{} is greater than {} and {}'.format(num1,num2,num3) if num1>num2 and num1>num3 else '{} is greater than {} and {}'.format(num2,num1,num3) if num2>num3 else '{} is greater than {} and {}'.format(num3,num1,num2))\n"
   ]
  },
  {
   "cell_type": "markdown",
   "id": "fc1bde86",
   "metadata": {},
   "source": [
    "# Loops - for loop, while loop"
   ]
  },
  {
   "cell_type": "code",
   "execution_count": 44,
   "id": "53aa4268",
   "metadata": {},
   "outputs": [
    {
     "name": "stdout",
     "output_type": "stream",
     "text": [
      "Enter the string: Write a Python program to find the length of the my_str\n",
      "55\n"
     ]
    }
   ],
   "source": [
    "# 7. Write a Python program to find the length of the my_str using loop\n",
    "# Input:- 'Write a Python program to find the length of the my_str'\n",
    "# Output:- 55\n",
    "\n",
    "my_str= input('Enter the string: ')\n",
    "count =0\n",
    "for i in my_str:\n",
    "    count=count+1\n",
    "print(count)\n",
    "    "
   ]
  },
  {
   "cell_type": "code",
   "execution_count": 43,
   "id": "9a1c65b7",
   "metadata": {},
   "outputs": [
    {
     "name": "stdout",
     "output_type": "stream",
     "text": [
      "Enter the string: peter piper picked a peck of pickled peppers.\\n\n",
      "9\n"
     ]
    }
   ],
   "source": [
    "# 8. Write a Python program to find the total number of times letter 'p' is appeared in the below string using loop:-\n",
    "# Input:- 'peter piper picked a peck of pickled peppers.\\n'\n",
    "# Output:- 9\n",
    "\n",
    "str1= input(\"Enter the string: \")\n",
    "count=0\n",
    "for i in str1:\n",
    "    if i=='p':\n",
    "        count=count+1\n",
    "    else:\n",
    "        pass\n",
    "print(count)"
   ]
  },
  {
   "cell_type": "code",
   "execution_count": 2,
   "id": "5e6b8684",
   "metadata": {},
   "outputs": [
    {
     "name": "stdout",
     "output_type": "stream",
     "text": [
      "Enter the string: peter piper picked a peck of pickled peppers.\n",
      "The indices of \"p\" are: \n",
      "0\n",
      "6\n",
      "8\n",
      "12\n",
      "21\n",
      "29\n",
      "37\n",
      "39\n",
      "40\n"
     ]
    }
   ],
   "source": [
    "# # 9. Q. Write a Python Program, to print all the indexes of all occurrences of letter 'p' appeared in the string using loop:-\n",
    "#  Input: - 'peter piper picked a peck of pickled peppers.'\n",
    "#  Output:-\n",
    "#  0\n",
    "#  6\n",
    "#  8\n",
    "#  12\n",
    "#  21\n",
    "#  29\n",
    "#  37\n",
    "#  39\n",
    "#  40\n",
    "\n",
    "# str= 'peter piper picked a peck of pickled peppers.'\n",
    "# print(str)\n",
    "str=input('Enter the string: ')\n",
    "\n",
    "str1='p'\n",
    "print('The indices of \"p\" are: ')\n",
    "\n",
    "for i in range(len(str)):\n",
    "    if (str[i]==str1):    \n",
    "        \n",
    "        print(i)\n",
    "\n"
   ]
  },
  {
   "cell_type": "code",
   "execution_count": 44,
   "id": "07c4e9ec",
   "metadata": {},
   "outputs": [
    {
     "name": "stdout",
     "output_type": "stream",
     "text": [
      "[' peter', 'piper', 'picked', 'a', 'peck', 'of', 'pickled', 'peppers.']\n"
     ]
    }
   ],
   "source": [
    "# 10. Write a python program to find below output using loop:-\n",
    "# Input: - 'peter piper picked a peck of pickled peppers.'\n",
    "# Output:- ['peter', 'piper', 'picked', 'a', 'peck', 'of', 'pickled', 'peppers']\n",
    "\n",
    "str='peter piper picked a peck of pickled peppers.'\n",
    "lst=[]\n",
    "str1=' '\n",
    "\n",
    "for i in range(len(str)):\n",
    "    if str[i]!=' ':\n",
    "        str1= str1+str[i]    \n",
    "    else:\n",
    "        lst.append(str1)\n",
    "        str1=''\n",
    "lst.append(str1)\n",
    "print(lst)\n",
    "        "
   ]
  },
  {
   "cell_type": "code",
   "execution_count": 141,
   "id": "c29ef0fc",
   "metadata": {},
   "outputs": [
    {
     "name": "stdout",
     "output_type": "stream",
     "text": [
      "peter piper picked a peck of pickled peppers.\n",
      "peppers pickled of peck a picked piper peter \n"
     ]
    }
   ],
   "source": [
    "# 11. Write a python program to find below output using loop:-\n",
    "# Input: - 'peter piper picked a peck of pickled peppers.'\n",
    "# Output:- 'peppers pickled of peck a picked piper peter'\n",
    "\n",
    "str='peter piper picked a peck of pickled peppers.'\n",
    "start_indx= len(str)-1\n",
    "end_indx= len(str)-1\n",
    "new_str=''\n",
    "print(str)\n",
    "\n",
    "while start_indx >=0:\n",
    "    \n",
    "    if str[start_indx]==' ' or start_indx==0:\n",
    "        word= str[start_indx:end_indx]\n",
    "        word=word.strip()\n",
    "        end_indx=start_indx\n",
    "        new_str+=word+' '\n",
    "    start_indx-= 1\n",
    "    \n",
    "print(new_str)\n",
    "        "
   ]
  },
  {
   "cell_type": "code",
   "execution_count": 144,
   "id": "1b9b0332",
   "metadata": {},
   "outputs": [
    {
     "name": "stdout",
     "output_type": "stream",
     "text": [
      "peter piper picked a peck of pickled peppers.\n",
      ".sreppep delkcip fo kcep a dekcip repip retep \n"
     ]
    }
   ],
   "source": [
    "# 12. Write a python program to find below output using loop:-\n",
    "# Input: - 'peter piper picked a peck of pickled peppers.'\n",
    "# Output:- '.sreppep delkcip fo kcep a dekcip repip retep'\n",
    "\n",
    "str='peter piper picked a peck of pickled peppers.'\n",
    "start_indx= len(str)-1\n",
    "end_indx= len(str)-1\n",
    "new_str=''\n",
    "word1=''\n",
    "print(str)\n",
    "\n",
    "while start_indx >=0:\n",
    "    \n",
    "    if str[start_indx]==' ' or start_indx==0:\n",
    "        word= str[start_indx:end_indx+1]\n",
    "        word=word.strip()\n",
    "        word1=word[::-1]        \n",
    "        end_indx=start_indx\n",
    "        new_str+= word1+' '       \n",
    "        word1=''\n",
    "    start_indx-= 1\n",
    "     \n",
    "print(new_str)\n"
   ]
  },
  {
   "cell_type": "code",
   "execution_count": 149,
   "id": "d51ba4cc",
   "metadata": {},
   "outputs": [
    {
     "name": "stdout",
     "output_type": "stream",
     "text": [
      "peter piper picked a peck of pickled peppers.\n",
      "retep repip dekcip a kcep fo delkcip sreppep \n"
     ]
    }
   ],
   "source": [
    "# 13. Write a python program to find below output using loop:-\n",
    "# Input: - 'peter piper picked a peck of pickled peppers.'\n",
    "# Output:- 'retep repip dekcip a kcep fo delkcip sreppep'\n",
    "\n",
    "str='peter piper picked a peck of pickled peppers.'\n",
    "start_indx= 0\n",
    "end_indx= 0\n",
    "new_str=''\n",
    "word1=''\n",
    "print(str)\n",
    "\n",
    "for i in range(len(str)):\n",
    "    if str[end_indx]==' ' or str[end_indx]=='.':\n",
    "        word= str[start_indx:end_indx]\n",
    "        word1=word[::-1]\n",
    "        word1=word1.strip()\n",
    "        start_indx= end_indx\n",
    "        new_str= new_str+ word1+' '\n",
    "        word1=''\n",
    "    end_indx+= 1\n",
    "     \n",
    "print(new_str)\n"
   ]
  },
  {
   "cell_type": "code",
   "execution_count": 151,
   "id": "dcc861ec",
   "metadata": {},
   "outputs": [
    {
     "name": "stdout",
     "output_type": "stream",
     "text": [
      "peter piper picked a peck of pickled peppers.\n",
      "Peter Piper Picked A Peck Of Pickled Peppers\n"
     ]
    }
   ],
   "source": [
    "# 14. Write a python program to find below output using loop:-\n",
    "# Input: - 'peter piper picked a peck of pickled peppers.'\n",
    "# Output:- 'Peter Piper Picked A Peck Of Pickled Peppers'\n",
    "    \n",
    "str='peter piper picked a peck of pickled peppers.'\n",
    "start_indx= 0\n",
    "end_indx= 0\n",
    "new_str=''\n",
    "word1=''\n",
    "print(str)\n",
    "\n",
    "for i in range(len(str)):\n",
    "    \n",
    "    if str[end_indx]==' ' or str[end_indx]=='.':\n",
    "        word=str[start_indx:end_indx]\n",
    "        word1=word.title()        \n",
    "        start_indx= end_indx\n",
    "        new_str= new_str+ word1       \n",
    "        word1=''\n",
    "      \n",
    "    end_indx+= 1\n",
    "     \n",
    "print(new_str)\n",
    "\n"
   ]
  },
  {
   "cell_type": "code",
   "execution_count": 84,
   "id": "c69cec06",
   "metadata": {},
   "outputs": [
    {
     "name": "stdout",
     "output_type": "stream",
     "text": [
      "Peter Piper Picked A Peck Of Pickled Peppers.\n",
      "Peter piper picked a peck of pickled peppers\n"
     ]
    }
   ],
   "source": [
    "# 15. Write a python program to find below output using loop:-\n",
    "# Input: - 'Peter Piper Picked A Peck Of Pickled Peppers.'\n",
    "# Output:- 'Peter piper picked a peck of pickled peppers'\n",
    "\n",
    "str= 'Peter Piper Picked A Peck Of Pickled Peppers.'\n",
    "start_indx= 0\n",
    "end_indx= 0\n",
    "new_str=''\n",
    "word1=''\n",
    "print(str)\n",
    "\n",
    "for i in range(len(str)):\n",
    "    \n",
    "    if str[end_indx]==' ' or str[end_indx]=='.':\n",
    "        word=str[start_indx:end_indx]\n",
    "        if start_indx != 0:\n",
    "            word=word.lower()\n",
    "        start_indx= end_indx\n",
    "        new_str= new_str+ word\n",
    "        word=''\n",
    "    end_indx+= 1\n",
    "     \n",
    "print(new_str)\n",
    "\n"
   ]
  },
  {
   "cell_type": "code",
   "execution_count": 73,
   "id": "e825fa27",
   "metadata": {},
   "outputs": [
    {
     "name": "stdout",
     "output_type": "stream",
     "text": [
      "peter piper picked a peck of pickled peppers.\n",
      "29\n"
     ]
    }
   ],
   "source": [
    "# 16. Write a python program to implement index method using loop. If sub_str is found in my_str then it will print the index of first occurrence of first character of matching string in my_str:-\n",
    "# Input: - my_str = 'Peter Piper Picked A Peck Of Pickled Peppers.',\n",
    "# sub_str = 'Pickl'\n",
    "# Output:- 29\n",
    "\n",
    "str='peter piper picked a peck of pickled peppers.'\n",
    "start_indx= 0\n",
    "end_indx= 0\n",
    "word=''\n",
    "print(str)\n",
    "str1='pickl'\n",
    "\n",
    "while end_indx <= len(str)-1:\n",
    "    if str[end_indx]==' ':\n",
    "        word=str[start_indx:end_indx]\n",
    "        if str1 in word:            \n",
    "            print(start_indx+1)\n",
    "        start_indx= end_indx\n",
    "        word=''\n",
    "    end_indx+=1\n",
    "       \n"
   ]
  },
  {
   "cell_type": "code",
   "execution_count": 137,
   "id": "7ee87093",
   "metadata": {},
   "outputs": [
    {
     "name": "stdout",
     "output_type": "stream",
     "text": [
      "Peter Piper Picked A Peck Of Pickled Peppers.\n",
      "Peter Piper Picked A Pack Of Pickled Peppers\n"
     ]
    }
   ],
   "source": [
    "# 17. Write a python program to implement replace method using loop. If sub_str is found in my_str then it will replace the first occurrence of sub_str with new_str else it will will print sub_str not found:-\n",
    "# Input: - my_str = 'Peter Piper Picked A Peck Of Pickled Peppers.',\n",
    "# sub_str = 'Peck', new_str = 'Pack'\n",
    "# Output: - 'Peter Piper Picked A Pack Of Pickled Peppers.'\n",
    "\n",
    "str= 'Peter Piper Picked A Peck Of Pickled Peppers.'\n",
    "print(str)\n",
    "start_indx=0\n",
    "end_indx=0\n",
    "substr= 'Peck'\n",
    "new_str=''\n",
    "str1=' Pack'\n",
    "\n",
    "for i in range(len(str)):\n",
    "    if str[end_indx]==' ' or str[end_indx]=='.':\n",
    "        word=str[start_indx:end_indx]\n",
    "        if word.strip()==substr.strip():\n",
    "            word=str1\n",
    "        start_indx= end_indx\n",
    "        new_str= new_str+ word       \n",
    "        word=''\n",
    "    end_indx+=1\n",
    "print(new_str)\n",
    "\n"
   ]
  },
  {
   "cell_type": "code",
   "execution_count": 185,
   "id": "4944b165",
   "metadata": {},
   "outputs": [
    {
     "name": "stdout",
     "output_type": "stream",
     "text": [
      "Peter Piper Picked A Peck Of Pickled Peppers.\n",
      "*********************Peck*******************\n"
     ]
    }
   ],
   "source": [
    "# 18. Write a python program to find below output (implements rjust and ljust) using loop:-\n",
    "# Input: - 'Peter Piper Picked A Peck Of Pickled Peppers.'\n",
    "# sub_str ='Peck',\n",
    "# Output:- '*********************Peck********************'\n",
    "\n",
    "str= 'Peter Piper Picked A Peck Of Pickled Peppers.'\n",
    "substr= 'Peck'\n",
    "word=0\n",
    "start_indx= 0\n",
    "end_indx= 0\n",
    "new_str=''\n",
    "print(str)\n",
    "fillchar='*'\n",
    "char=''\n",
    "\n",
    "while start_indx<len(str) :    \n",
    "    if str[start_indx]==' ' or str[start_indx]=='.':\n",
    "        word=str[end_indx:start_indx]\n",
    "        if word.strip()==substr:\n",
    "            new_str+='*'+word.strip()\n",
    "        else:\n",
    "            for i in range(len(word)):\n",
    "                char+='*'\n",
    "            new_str+=char\n",
    "            char=''\n",
    "        end_indx=start_indx\n",
    "        word=''\n",
    "    start_indx+=1    \n",
    "print(new_str)\n",
    "        \n",
    "\n"
   ]
  },
  {
   "cell_type": "code",
   "execution_count": 51,
   "id": "31306661",
   "metadata": {},
   "outputs": [
    {
     "name": "stdout",
     "output_type": "stream",
     "text": [
      "[' This', 'Python', 'class']\n"
     ]
    }
   ],
   "source": [
    "# 19. Write a python program to find below output using loop:-\n",
    "# Input:- 'This is Python class', sep = ' is',\n",
    "# Output:- ['This', 'Python class']\n",
    "\n",
    "str = 'This is Python class'\n",
    "lst=[]\n",
    "str1=' '\n",
    "str2=''\n",
    "\n",
    "for i in range(len(str)):\n",
    "    if str[i]!=' ':\n",
    "        str1= str1+str[i] \n",
    "        \n",
    "    else:\n",
    "        if str1!='is':\n",
    "            lst.append(str1)\n",
    "        str1=''\n",
    "lst.append(str1)\n",
    "print(lst)"
   ]
  },
  {
   "cell_type": "code",
   "execution_count": 7,
   "id": "67c4cc7b",
   "metadata": {},
   "outputs": [
    {
     "name": "stdout",
     "output_type": "stream",
     "text": [
      "Enter any number: 0\n",
      "Enter any number: -1\n",
      "Enter any number: -2\n",
      "Enter any number: 45\n",
      "Enter any number: 78\n",
      "Enter any number: 80\n",
      "Enter any number: 4.5\n",
      "Invalid Input\n"
     ]
    }
   ],
   "source": [
    "# 0. WAP to read input from user. Allow the user to enter more numbers as long as the user enters valid integers. Terminate the program with proper message when they entered value is anything except integer.\n",
    "\n",
    "\n",
    "while True:\n",
    "    num =str(input('Enter any number: '))\n",
    "    if num[0]=='-' or num.isdigit():\n",
    "        pass\n",
    "    else:\n",
    "        print('Invalid Input')\n",
    "        break\n"
   ]
  },
  {
   "cell_type": "code",
   "execution_count": 2,
   "id": "a7526f2d",
   "metadata": {},
   "outputs": [
    {
     "name": "stdout",
     "output_type": "stream",
     "text": [
      "Enter any number: 1\n",
      "Enter any number: 2\n",
      "Enter any number: -1\n",
      "Enter any number: 1.2\n",
      "Enter any number: -1.2\n",
      "Enter any number: 2e3\n",
      "Enter any number: 2.3e4\n",
      "Enter any number: 23e456\n",
      "Enter any number: 1.2e4.5\n",
      "Invalid Input\n"
     ]
    }
   ],
   "source": [
    "# 21. WAP to read input from a user. Allow the user to enter more numbers as long as the user enters valid numbers. Terminate the program with proper message when the user enters a value anything except valid number.\n",
    "splitvar=[]\n",
    "\n",
    "while True:\n",
    "    num =str(input('Enter any number: '))\n",
    "    if num[0]=='-' or num.isdigit():\n",
    "        pass           \n",
    "    elif 'e' in num and len(num)!= 1:\n",
    "        splitvar = num.split('e')\n",
    "        if (splitvar[0]=='-' or '.' in splitvar[0] or splitvar[0].isdigit()) and splitvar[1].isdigit() and '.' not in splitvar:\n",
    "            pass\n",
    "        else:\n",
    "            print('Invalid Input')\n",
    "            break\n",
    "    elif '.' in num and len(num)!= 1:\n",
    "        splitvar = num.split('.')\n",
    "        if (splitvar[0]=='-' or splitvar[0].isdigit()) or splitvar[1].isdigit():\n",
    "            pass\n",
    "        else:\n",
    "            print('Invalid Input')\n",
    "            break\n",
    "    else:\n",
    "        print('Invalid Input')\n",
    "        break\n"
   ]
  },
  {
   "cell_type": "code",
   "execution_count": 3,
   "id": "5ddce12f",
   "metadata": {},
   "outputs": [
    {
     "name": "stdout",
     "output_type": "stream",
     "text": [
      "Enter any number: 3\n",
      "Enter any number: -3\n",
      "Enter any number: 1.2\n",
      "Enter any number: -4.5\n",
      "Enter any number: 3e455\n",
      "Enter any number: 455e900\n",
      "Enter any number: -45e788\n",
      "Enter any number: 2.3e45\n",
      "Enter any number: 456\n",
      "Enter any number: 3445\n",
      "Enter any number: 43\n",
      "Enter any number: e4.5\n",
      "Invalid Input\n",
      "Enter any number: r\n",
      "Invalid Input\n",
      "Enter any number: .e5\n",
      "Invalid Input\n",
      "Enter any number: 45\n",
      "Enter any number: e.67\n",
      "Invalid Input\n",
      "Enter any number: 23\n",
      "Enter any number: .4e.4\n",
      "Invalid Input\n",
      "All your atempts are over.\n"
     ]
    }
   ],
   "source": [
    "# 22. WAP to read input from a user. Allow the user to enter more numbers as long as the user enters valid numbers. Terminate the program with proper message when the user enters a value anything except valid number. Allow wrong entry 'N' times.\n",
    "\n",
    "splitvar=[]\n",
    "count=5\n",
    "\n",
    "while count>0:\n",
    "    num =str(input('Enter any number: '))\n",
    "    if num[0]=='-' or num.isdigit():\n",
    "        pass           \n",
    "    elif 'e' in num and len(num)!= 1:\n",
    "        splitvar = num.split('e')\n",
    "        if (splitvar[0]=='-' or '.' in splitvar[0] or splitvar[0].isdigit()) and splitvar[1].isdigit() and '.' not in splitvar:\n",
    "            pass\n",
    "        else:\n",
    "            print('Invalid Input')\n",
    "            count-=1           \n",
    "    elif '.' in num and len(num)!= 1:\n",
    "        splitvar = num.split('.')\n",
    "        if (splitvar[0]=='-' or splitvar[0].isdigit()) or splitvar[1].isdigit():\n",
    "            pass\n",
    "        else:\n",
    "            print('Invalid Input')\n",
    "            count-=1\n",
    "    else:\n",
    "        print('Invalid Input')\n",
    "        count-=1\n",
    "    \n",
    "if count==0:\n",
    "    print('All your atempts are over.')\n",
    "\n",
    "\n"
   ]
  }
 ],
 "metadata": {
  "kernelspec": {
   "display_name": "Python 3",
   "language": "python",
   "name": "python3"
  },
  "language_info": {
   "codemirror_mode": {
    "name": "ipython",
    "version": 3
   },
   "file_extension": ".py",
   "mimetype": "text/x-python",
   "name": "python",
   "nbconvert_exporter": "python",
   "pygments_lexer": "ipython3",
   "version": "3.8.8"
  }
 },
 "nbformat": 4,
 "nbformat_minor": 5
}
