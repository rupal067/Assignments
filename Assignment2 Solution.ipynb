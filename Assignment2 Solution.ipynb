{
 "cells": [
  {
   "cell_type": "markdown",
   "id": "20d0142f",
   "metadata": {},
   "source": [
    "# List & Tuple\n"
   ]
  },
  {
   "cell_type": "code",
   "execution_count": 52,
   "id": "eb789c02",
   "metadata": {},
   "outputs": [
    {
     "name": "stdout",
     "output_type": "stream",
     "text": [
      "Enter no. of elements in list: 3\n",
      "1\n",
      "2\n",
      "3\n",
      "[1, 2, 3]\n",
      "Largest element is: 3\n"
     ]
    }
   ],
   "source": [
    "## 1. Program to Find the Largest Number in a List.\n",
    "\n",
    "lst= []\n",
    "n= int(input('Enter no. of elements in list: '))\n",
    "for i in range(n):\n",
    "    ele= int(input())\n",
    "    lst.append(ele)\n",
    "print(lst)\n",
    "m= max(lst)\n",
    "print(\"Largest element is:\", m)"
   ]
  },
  {
   "cell_type": "code",
   "execution_count": 29,
   "id": "3a3704a5",
   "metadata": {},
   "outputs": [
    {
     "name": "stdout",
     "output_type": "stream",
     "text": [
      "Enter the number of elements in a list: 6\n",
      "1\n",
      "2\n",
      "3\n",
      "4\n",
      "5\n",
      "6\n",
      "[1, 2, 3, 4, 5, 6]\n",
      "The even number list is:  [0, 2, 4]\n",
      "The odd number list is:  [1, 3, 5]\n"
     ]
    }
   ],
   "source": [
    "### 2. Program to Put Even and Odd elements in a List into Two Different Lists.\n",
    "\n",
    "lst1= []\n",
    "lst2=[]\n",
    "lst3=[]\n",
    "n= int(input('Enter the number of elements in a list: '))\n",
    "for i in range(n):\n",
    "    ele=int(input())\n",
    "    lst1.append(ele)\n",
    "print(lst1)\n",
    "for i in range(n):\n",
    "    if i%2==0:\n",
    "        lst2.append(i)\n",
    "    else:\n",
    "        lst3.append(i)\n",
    "print('The even number list is: ', lst2)\n",
    "print('The odd number list is: ', lst3)   \n",
    "\n"
   ]
  },
  {
   "cell_type": "code",
   "execution_count": 45,
   "id": "43c04b2b",
   "metadata": {},
   "outputs": [
    {
     "name": "stdout",
     "output_type": "stream",
     "text": [
      "Enter the number of elements of the list: 5\n",
      "qwert\n",
      "abc\n",
      "learn\n",
      "bay\n",
      "python\n",
      "['qwert', 'abc', 'learn', 'bay', 'python']\n",
      "The longest element is:  python\n"
     ]
    }
   ],
   "source": [
    "# 3. Program to Read a List of Words and Return the Length of the Longest One.\n",
    "\n",
    "lst=[]\n",
    "n= int(input('Enter the number of elements of the list: '))\n",
    "for i in range(n):\n",
    "    ele=str(input())\n",
    "    lst.append(ele)\n",
    "print(lst)\n",
    "temp= len(lst[0])\n",
    "for i in range(n):\n",
    "    if len(lst[i])>temp:\n",
    "        temp=i\n",
    "print('The longest element is: ', lst[temp])\n"
   ]
  },
  {
   "cell_type": "code",
   "execution_count": 56,
   "id": "0bb9902f",
   "metadata": {},
   "outputs": [
    {
     "name": "stdout",
     "output_type": "stream",
     "text": [
      "Enter the number of element in list: 3\n",
      "1\n",
      "2\n",
      "3\n",
      "The input list is:  [1, 2, 3]\n",
      "The output list is:  [(1, 1), (3, 9), (2, 4)]\n"
     ]
    }
   ],
   "source": [
    "# 4. Create a List of Tuples with the First Element as the Number and Second Element as the Square of the Number.\n",
    "\n",
    "lst=[]\n",
    "lst1=[]\n",
    "lst2=[]\n",
    "n= int(input('Enter the number of element in list: '))\n",
    "for i in range(n):\n",
    "    ele=int(input())\n",
    "    lst.append(ele)\n",
    "print('The input list is: ',lst)\n",
    "for i in lst:\n",
    "    sqr=i*i\n",
    "    lst1.append(sqr)\n",
    "mapp=zip(lst,lst1)\n",
    "map1=set(mapp)\n",
    "print('The output list is: ', list(map1))\n"
   ]
  },
  {
   "cell_type": "code",
   "execution_count": 8,
   "id": "43615534",
   "metadata": {},
   "outputs": [
    {
     "name": "stdout",
     "output_type": "stream",
     "text": [
      "Enter the number of elements in the list: 5\n",
      "1\n",
      "2\n",
      "3\n",
      "2\n",
      "1\n",
      "[1, 2, 3, 2, 1]\n",
      "List after removing Duplicates: [1, 2, 3]\n"
     ]
    }
   ],
   "source": [
    "#### 5. Program to Remove the Duplicate Items from a List.\n",
    "\n",
    "lst=[]\n",
    "temp_lst=[]\n",
    "n= int (input('Enter the number of elements in the list: '))\n",
    "for i in range(n):\n",
    "    ele=int(input())\n",
    "    lst.append(ele)\n",
    "print(lst)\n",
    "for i in lst:\n",
    "    if i not in temp_lst:\n",
    "        temp_lst.append(i)\n",
    "print('List after removing Duplicates:',temp_lst)\n"
   ]
  },
  {
   "cell_type": "code",
   "execution_count": 57,
   "id": "9a264843",
   "metadata": {},
   "outputs": [
    {
     "name": "stdout",
     "output_type": "stream",
     "text": [
      "[20, 20, 30, 30, 30, 40, 40, 40, 10]\n",
      "Given tuple is in random order.\n"
     ]
    }
   ],
   "source": [
    "# 6. WAP to check if this tuple (20, 20, 30, 30, 30, 40, 40, 40, 10) is in ascending/ descending or in random order without inbuilt function.\n",
    "\n",
    "tup= (20, 20, 30, 30, 30, 40, 40, 40, 10)\n",
    "lst=list(tup)\n",
    "print(lst)\n",
    "count=0\n",
    "temp=0\n",
    "for i in range(len(lst)-1):\n",
    "    if lst[i]>=lst[i+1]:\n",
    "        count=count+1\n",
    "    elif lst[i]<=lst[i+1]:\n",
    "        temp=temp+1      \n",
    "if count==8:\n",
    "    print('Given tuple is in descending order.')\n",
    "elif temp==8:\n",
    "    print('Given tuple is in ascending order.')\n",
    "else:\n",
    "    print('Given tuple is in random order.')\n",
    "    \n",
    "        \n",
    "        \n",
    "        \n",
    "        \n",
    "       \n"
   ]
  },
  {
   "cell_type": "markdown",
   "id": "b888e1b3",
   "metadata": {},
   "source": [
    "# Dictionary"
   ]
  },
  {
   "cell_type": "code",
   "execution_count": 47,
   "id": "a1344459",
   "metadata": {},
   "outputs": [
    {
     "name": "stdout",
     "output_type": "stream",
     "text": [
      "Enter the no. of Dictionary element: \n",
      "5\n",
      "Enter key: 1\n",
      "Enter value: Apple\n",
      "Enter key: 2\n",
      "Enter value: Banana\n",
      "Enter key: 3\n",
      "Enter value: Grapes\n",
      "Enter key: 4\n",
      "Enter value: Orange\n",
      "Enter key: 5\n",
      "Enter value: Kiwi\n",
      "{1: 'Apple', 2: 'Banana', 3: 'Grapes', 4: 'Orange', 5: 'Kiwi'}\n",
      "Enter the key to be checked: \n",
      "4\n",
      "The key is present in the Dictionary.\n"
     ]
    }
   ],
   "source": [
    "# 1. Program to Check if a Given Key Exists in a Dictionary or Not.\n",
    "\n",
    "Dict = {}\n",
    "print('Enter the no. of Dictionary element: ')\n",
    "n=int(input())\n",
    "for i in range(n):\n",
    "    key = int(input(\"Enter key: \"))\n",
    "    value = input(\"Enter value: \")\n",
    "    Dict[key] = value\n",
    "\n",
    "print(Dict)\n",
    "print('Enter the key to be checked: ')\n",
    "a= int(input())\n",
    "if a in Dict:\n",
    "    print('The key is present in the Dictionary.')\n",
    "else:\n",
    "     print('The key is not present in the Dictionary.')\n",
    "    "
   ]
  },
  {
   "cell_type": "code",
   "execution_count": 58,
   "id": "dcffa1ab",
   "metadata": {},
   "outputs": [
    {
     "name": "stdout",
     "output_type": "stream",
     "text": [
      "{'a': 100, 'b': 200, 'c': 300}\n",
      "300\n"
     ]
    }
   ],
   "source": [
    "# 2. Program to Sum All the Items in a Dictionary.\n",
    "\n",
    "Dict1= {'a':100, 'b':200, 'c':300}\n",
    "print(Dict1)\n",
    "for i in Dict1:\n",
    "    sum=0\n",
    "    sum=sum+Dict1[i]\n",
    "print(sum)"
   ]
  },
  {
   "cell_type": "code",
   "execution_count": 33,
   "id": "53630c82",
   "metadata": {},
   "outputs": [
    {
     "name": "stdout",
     "output_type": "stream",
     "text": [
      "{1: 'Python', 2: 'Java', 3: 'C', 4: 'SQL', 5: 'DotNet'}\n",
      "Enter the element to be deleted: \n",
      "Dictionary after deleting the key is:\n",
      "{1: 'Python', 2: 'Java', 3: 'C', 5: 'DotNet'}\n"
     ]
    }
   ],
   "source": [
    "# 3. Program to Remove the Given Key from a Dictionary.\n",
    "\n",
    "Dict1= {1: 'Python', 2: 'Java', 3: 'C', 4: 'SQL', 5: 'DotNet'}\n",
    "print(Dict1)\n",
    "#Removing element from the dictionary\n",
    "n=print('Enter the element to be deleted: ')\n",
    "del Dict1[4]\n",
    "print('Dictionary after deleting the key is:')\n",
    "print(Dict1)\n"
   ]
  },
  {
   "cell_type": "code",
   "execution_count": 66,
   "id": "3a0dc8c7",
   "metadata": {},
   "outputs": [
    {
     "name": "stdout",
     "output_type": "stream",
     "text": [
      "A\n",
      "B\n",
      "C\n",
      "D\n",
      "E\n",
      "Apple\n",
      "Ball\n",
      "Cat\n",
      "Doll\n",
      "Elephant\n"
     ]
    }
   ],
   "source": [
    "# 4. Write a Python program to iterate over dictionaries using for loops.\n",
    "\n",
    "Dict= {\"A\":'Apple', \"B\":'Ball', \"C\":'Cat', \"D\":'Doll', \"E\":'Elephant'}\n",
    "for key in Dict:\n",
    "    print(key)\n",
    "for value in Dict.values():\n",
    "    print(value)"
   ]
  },
  {
   "cell_type": "code",
   "execution_count": 36,
   "id": "5e059444",
   "metadata": {},
   "outputs": [
    {
     "name": "stdout",
     "output_type": "stream",
     "text": [
      "Enter key: 3\n",
      "Enter value: e\n",
      "Enter key: 4\n",
      "Enter value: r\n",
      "Enter key: 5\n",
      "Enter value: g\n",
      "Enter key: 2\n",
      "Enter value: d\n",
      "Enter key: 1\n",
      "Enter value: f\n",
      "{'3': 'e', '4': 'r', '5': 'g', '2': 'd', '1': 'f'}\n",
      "[('1', 'f'), ('2', 'd'), ('3', 'e'), ('4', 'r'), ('5', 'g')]\n"
     ]
    }
   ],
   "source": [
    "# 5. Write a Python program to sort a dictionary by key.\n",
    "\n",
    "Dict = {}\n",
    "\n",
    "for i in range(5):\n",
    "    key = input(\"Enter key: \")\n",
    "    value = input(\"Enter value: \")\n",
    "    Dict[key] = value\n",
    "\n",
    "print(Dict)\n",
    "print(sorted(Dict.items()))"
   ]
  },
  {
   "cell_type": "markdown",
   "id": "aace1bd2",
   "metadata": {},
   "source": [
    "# Set"
   ]
  },
  {
   "cell_type": "code",
   "execution_count": 7,
   "id": "0854ca6c",
   "metadata": {},
   "outputs": [
    {
     "name": "stdout",
     "output_type": "stream",
     "text": [
      "Enter the string: Learnbay Python\n",
      "The number of vowels in the string are:  4\n"
     ]
    }
   ],
   "source": [
    "# 1. Python Program to Count the Number of Vowels Present in a String using Sets.\n",
    "\n",
    "str=input('Enter the string: ')\n",
    "s=set('aeiou')\n",
    "count=0\n",
    "for i in str:\n",
    "    if i in s:\n",
    "        count+=1\n",
    "print('The number of vowels in the string are: ',count)\n"
   ]
  },
  {
   "cell_type": "code",
   "execution_count": 15,
   "id": "66517d4f",
   "metadata": {},
   "outputs": [
    {
     "name": "stdout",
     "output_type": "stream",
     "text": [
      "Enter the first string: Learnbay\n",
      "Enter the second string: Python\n",
      "String 1:  {'n', 'y', 'L', 'e', 'r', 'a', 'b'}\n",
      "String 2:  {'h', 'n', 'y', 'o', 't', 'P'}\n",
      "The common letters are:  {'n', 'y'}\n"
     ]
    }
   ],
   "source": [
    "# 2. Python Program to Check Common Letters in Two Input Strings.\n",
    "\n",
    "str1=set(input('Enter the first string: '))\n",
    "str2=set(input('Enter the second string: '))\n",
    "print('String 1: ', str1)\n",
    "print('String 2: ', str2)\n",
    "set1=str1.intersection(str2)\n",
    "print('The common letters are: ', set1)\n"
   ]
  },
  {
   "cell_type": "code",
   "execution_count": 21,
   "id": "95a2d0a1",
   "metadata": {},
   "outputs": [
    {
     "name": "stdout",
     "output_type": "stream",
     "text": [
      "Enter the first string: 12345\n",
      "Enter the second string: 456\n",
      "String 1:  {'2', '5', '3', '4', '1'}\n",
      "String 2:  {'6', '5', '4'}\n",
      "The resultant set is:  {'2', '3', '1'}\n"
     ]
    }
   ],
   "source": [
    "# 3. Python Program that displays which Letters are in the First String but not in the Second.\n",
    "\n",
    "str1=set(input('Enter the first string: '))\n",
    "str2=set(input('Enter the second string: '))\n",
    "print('String 1: ', str1)\n",
    "print('String 2: ', str2)\n",
    "set1=str1.difference(str2)\n",
    "print('The resultant set is: ', set1)"
   ]
  },
  {
   "cell_type": "code",
   "execution_count": 20,
   "id": "1fed77bb",
   "metadata": {},
   "outputs": [
    {
     "name": "stdout",
     "output_type": "stream",
     "text": [
      "Enter the first string: abcde\n",
      "Enter the second string: efgh\n",
      "String 1:  {'d', 'c', 'e', 'a', 'b'}\n",
      "String 2:  {'g', 'f', 'e', 'h'}\n",
      "The resultant set is :  {'h', 'g', 'f', 'd', 'c', 'e', 'a', 'b'}\n"
     ]
    }
   ],
   "source": [
    "# 4. Python Program that displays which Letters are Present in Both the Strings.\n",
    "\n",
    "str1=set(input('Enter the first string: '))\n",
    "str2=set(input('Enter the second string: '))\n",
    "print('String 1: ', str1)\n",
    "print('String 2: ', str2)\n",
    "set1=str1.union(str2)\n",
    "print('The resultant set is : ', set1)"
   ]
  },
  {
   "cell_type": "code",
   "execution_count": 23,
   "id": "8ce221ba",
   "metadata": {},
   "outputs": [
    {
     "name": "stdout",
     "output_type": "stream",
     "text": [
      "Enter the first string: 12345\n",
      "Enter the second string: 34567\n",
      "String 1:  {'2', '5', '3', '4', '1'}\n",
      "String 2:  {'7', '6', '5', '3', '4'}\n",
      "The uncommon letters are:  {'7', '1', '6', '2'}\n"
     ]
    }
   ],
   "source": [
    "# 5. Python Program that displays which Letters are in the Two Strings but not in both.\n",
    "\n",
    "str1=set(input('Enter the first string: '))\n",
    "str2=set(input('Enter the second string: '))\n",
    "print('String 1: ', str1)\n",
    "print('String 2: ', str2)\n",
    "set1=str1 ^ str2\n",
    "print('The uncommon letters are: ', set1)"
   ]
  },
  {
   "cell_type": "markdown",
   "id": "cd5719b8",
   "metadata": {},
   "source": [
    "# List Comprehension & List Generator"
   ]
  },
  {
   "cell_type": "code",
   "execution_count": 75,
   "id": "f38f65dd",
   "metadata": {},
   "outputs": [
    {
     "name": "stdout",
     "output_type": "stream",
     "text": [
      "List1 : [6, 9, 7, 5, 10]\n",
      "List2 : [10, 20, 30, 50, 7]\n",
      "The sum of two lists are:  [16, 29, 37, 55, 17]\n"
     ]
    }
   ],
   "source": [
    "# 1. WAP to add elements of the two lists:\n",
    "# List1 = [6,9,7,5,10]\n",
    "# List2 = [10,20,30,50,7]\n",
    "\n",
    "list1=[6,9,7,5,10]\n",
    "list2=[10,20,30,50,7]\n",
    "print('List1 :',list1)\n",
    "print('List2 :',list2)\n",
    "sum=(list1[i]+list2[i] for i in range(len(list1)))\n",
    "print('The sum of two lists are: ',list(sum))\n"
   ]
  },
  {
   "cell_type": "code",
   "execution_count": 33,
   "id": "26ccfa8c",
   "metadata": {},
   "outputs": [
    {
     "name": "stdout",
     "output_type": "stream",
     "text": [
      "Given List is : [5, 7, 9, 10, 11]\n",
      "The list of square of all list elements are:  [25, 49, 81, 100, 121]\n",
      "The sum of square of all elements are:  376\n"
     ]
    }
   ],
   "source": [
    "# 4. WAP to add square root of the list elements: [5,7,9,10,11]\n",
    "\n",
    "lst=[5,7,9,10,11]\n",
    "total=0\n",
    "print('Given List is :',lst)\n",
    "sqr = list(lst[i]*lst[i] for i in range(len(lst)))\n",
    "lst1=list(sqr)\n",
    "print('The list of square of all list elements are: ', lst1)\n",
    "for i in range(len(lst1)):\n",
    "    total=total+lst1[i]\n",
    "print('The sum of square of all elements are: ', total)\n"
   ]
  },
  {
   "cell_type": "code",
   "execution_count": 35,
   "id": "925210c9",
   "metadata": {},
   "outputs": [
    {
     "name": "stdout",
     "output_type": "stream",
     "text": [
      "[2, 4, 6, 8, 10, 12, 14, 16, 18, 20]\n"
     ]
    }
   ],
   "source": [
    "# 5. WAP to create 2’s multiplication table.\n",
    "\n",
    "lst=[i for i in range(1,21) if i%2==0]\n",
    "print(lst)\n"
   ]
  },
  {
   "cell_type": "code",
   "execution_count": 34,
   "id": "e828fea9",
   "metadata": {},
   "outputs": [
    {
     "name": "stdout",
     "output_type": "stream",
     "text": [
      "Enter any String: PYTHON\n",
      "['p', 'y', 't', 'h', 'o', 'n']\n"
     ]
    }
   ],
   "source": [
    "# 6. WAP to return lower case version of list of characters of the string given by a user.\n",
    "\n",
    "str= input('Enter any String: ')\n",
    "lst=[i.lower() for i in str] \n",
    "print(lst)"
   ]
  }
 ],
 "metadata": {
  "kernelspec": {
   "display_name": "Python 3",
   "language": "python",
   "name": "python3"
  },
  "language_info": {
   "codemirror_mode": {
    "name": "ipython",
    "version": 3
   },
   "file_extension": ".py",
   "mimetype": "text/x-python",
   "name": "python",
   "nbconvert_exporter": "python",
   "pygments_lexer": "ipython3",
   "version": "3.8.8"
  }
 },
 "nbformat": 4,
 "nbformat_minor": 5
}
